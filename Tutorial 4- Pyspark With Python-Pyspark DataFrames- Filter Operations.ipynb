{
 "cells": [
  {
   "cell_type": "markdown",
   "id": "2e4fa881-8f3c-43ab-a00b-12744faabe62",
   "metadata": {},
   "source": [
    "### DATAFRAMES\n",
    "\n",
    "- Filter Operations\n",
    "- AND OR EQUAL\n",
    "- "
   ]
  },
  {
   "cell_type": "code",
   "execution_count": 1,
   "id": "da1400fd-dfe7-4fe1-a3a3-11cfd71f8b02",
   "metadata": {},
   "outputs": [],
   "source": [
    "from pyspark.sql import SparkSession"
   ]
  },
  {
   "cell_type": "code",
   "execution_count": 2,
   "id": "9c0084e5-c8cb-45c4-b330-acc82115e467",
   "metadata": {},
   "outputs": [],
   "source": [
    "spark = SparkSession.builder.appName('dataFrame').getOrCreate()"
   ]
  },
  {
   "cell_type": "code",
   "execution_count": 3,
   "id": "cc5e5cf8-118c-4c0c-a084-c22eb94ec1e2",
   "metadata": {},
   "outputs": [],
   "source": [
    "df_pyspark = spark.read.csv('test4.csv', header=True, inferSchema=True)"
   ]
  },
  {
   "cell_type": "code",
   "execution_count": 4,
   "id": "b2467483-e112-49dc-adb5-5b1a15577b1e",
   "metadata": {},
   "outputs": [
    {
     "name": "stdout",
     "output_type": "stream",
     "text": [
      "+-------+---+----------+------+\n",
      "|   Name|Age|Experience|Salary|\n",
      "+-------+---+----------+------+\n",
      "|   John| 35|        10|  6000|\n",
      "|  Emily| 28|         5| 45000|\n",
      "|Michael| 40|        15| 75000|\n",
      "|  Sarah| 33|         8|  5200|\n",
      "|  David| 45|        20| 85000|\n",
      "|   Emma| 30|         7| 48000|\n",
      "| Daniel| 38|        12| 68000|\n",
      "+-------+---+----------+------+\n",
      "\n"
     ]
    }
   ],
   "source": [
    "df_pyspark.show()"
   ]
  },
  {
   "cell_type": "markdown",
   "id": "0c332f08-ce6b-42bb-8a4e-74910035005f",
   "metadata": {},
   "source": [
    "## Filter Operations"
   ]
  },
  {
   "cell_type": "code",
   "execution_count": 5,
   "id": "99b4f318-b271-4499-9142-1b2c00324169",
   "metadata": {},
   "outputs": [],
   "source": [
    "### Salary of people less than or equal to 20.000"
   ]
  },
  {
   "cell_type": "code",
   "execution_count": 6,
   "id": "f9fa8010-57c4-4af2-8a85-2c1ca1fa400d",
   "metadata": {},
   "outputs": [
    {
     "name": "stdout",
     "output_type": "stream",
     "text": [
      "+-----+---+----------+------+\n",
      "| Name|Age|Experience|Salary|\n",
      "+-----+---+----------+------+\n",
      "| John| 35|        10|  6000|\n",
      "|Sarah| 33|         8|  5200|\n",
      "+-----+---+----------+------+\n",
      "\n"
     ]
    }
   ],
   "source": [
    "df_pyspark.filter(\"Salary<=20000\").show()"
   ]
  },
  {
   "cell_type": "code",
   "execution_count": 7,
   "id": "1584371b-8298-4e03-a66f-77d7c03b31ae",
   "metadata": {},
   "outputs": [
    {
     "name": "stdout",
     "output_type": "stream",
     "text": [
      "+-----+---+----------+\n",
      "| Name|Age|Experience|\n",
      "+-----+---+----------+\n",
      "| John| 35|        10|\n",
      "|Sarah| 33|         8|\n",
      "+-----+---+----------+\n",
      "\n"
     ]
    }
   ],
   "source": [
    "df_pyspark.filter(\"Salary<=20000\").select(['Name', 'Age', 'Experience']).show()"
   ]
  },
  {
   "cell_type": "code",
   "execution_count": 8,
   "id": "f76c4f98-f262-4669-9da5-8ffd40c762ee",
   "metadata": {},
   "outputs": [
    {
     "name": "stdout",
     "output_type": "stream",
     "text": [
      "+-----+---+----------+------+\n",
      "| Name|Age|Experience|Salary|\n",
      "+-----+---+----------+------+\n",
      "| John| 35|        10|  6000|\n",
      "|Sarah| 33|         8|  5200|\n",
      "+-----+---+----------+------+\n",
      "\n"
     ]
    }
   ],
   "source": [
    "df_pyspark.filter(df_pyspark['Salary']<=20000).show()"
   ]
  },
  {
   "cell_type": "code",
   "execution_count": 9,
   "id": "c598c6d9-fe80-4def-ac92-00979de1735c",
   "metadata": {},
   "outputs": [
    {
     "name": "stdout",
     "output_type": "stream",
     "text": [
      "+----+---+----------+------+\n",
      "|Name|Age|Experience|Salary|\n",
      "+----+---+----------+------+\n",
      "|John| 35|        10|  6000|\n",
      "+----+---+----------+------+\n",
      "\n"
     ]
    }
   ],
   "source": [
    "df_pyspark.filter((df_pyspark['Salary']<=20000) & (df_pyspark['Salary']>=5300)).show()"
   ]
  },
  {
   "cell_type": "code",
   "execution_count": null,
   "id": "82d6818d-accc-4a79-ac0a-e3c7eb7e3241",
   "metadata": {},
   "outputs": [],
   "source": []
  },
  {
   "cell_type": "code",
   "execution_count": null,
   "id": "1d73bf00-4bf0-4cb3-8487-3e8e5105cff1",
   "metadata": {},
   "outputs": [],
   "source": []
  },
  {
   "cell_type": "code",
   "execution_count": null,
   "id": "b1b73c35-cb03-44f5-90e2-8397216bf814",
   "metadata": {},
   "outputs": [],
   "source": []
  },
  {
   "cell_type": "code",
   "execution_count": null,
   "id": "14d15a9b-9d83-4366-a8f2-0684fa183f91",
   "metadata": {},
   "outputs": [],
   "source": []
  }
 ],
 "metadata": {
  "kernelspec": {
   "display_name": "Python 3 (ipykernel)",
   "language": "python",
   "name": "python3"
  },
  "language_info": {
   "codemirror_mode": {
    "name": "ipython",
    "version": 3
   },
   "file_extension": ".py",
   "mimetype": "text/x-python",
   "name": "python",
   "nbconvert_exporter": "python",
   "pygments_lexer": "ipython3",
   "version": "3.11.7"
  }
 },
 "nbformat": 4,
 "nbformat_minor": 5
}
