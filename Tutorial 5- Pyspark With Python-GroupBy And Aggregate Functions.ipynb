{
 "cells": [
  {
   "cell_type": "markdown",
   "id": "b0908ad1-db1f-4534-b9bd-f5eee03db3be",
   "metadata": {},
   "source": [
    "### Tutorial 5- Pyspark With Python-GroupBy And Aggregate Functions"
   ]
  },
  {
   "cell_type": "code",
   "execution_count": 1,
   "id": "322ffc05-b6f7-4c9c-9f50-1c8bb4bdaab2",
   "metadata": {},
   "outputs": [],
   "source": [
    "from pyspark.sql import SparkSession"
   ]
  },
  {
   "cell_type": "code",
   "execution_count": 2,
   "id": "449a0bd0-0407-4c11-9fe3-71eb47fbaf56",
   "metadata": {},
   "outputs": [],
   "source": [
    "spark = SparkSession.builder.appName('Agg').getOrCreate()"
   ]
  },
  {
   "cell_type": "code",
   "execution_count": 3,
   "id": "060fd339-bb1d-437f-9f6e-cdd1c9740a4a",
   "metadata": {},
   "outputs": [
    {
     "data": {
      "text/html": [
       "\n",
       "            <div>\n",
       "                <p><b>SparkSession - in-memory</b></p>\n",
       "                \n",
       "        <div>\n",
       "            <p><b>SparkContext</b></p>\n",
       "\n",
       "            <p><a href=\"http://DESKTOP-G3LBEF5:4040\">Spark UI</a></p>\n",
       "\n",
       "            <dl>\n",
       "              <dt>Version</dt>\n",
       "                <dd><code>v3.5.1</code></dd>\n",
       "              <dt>Master</dt>\n",
       "                <dd><code>local[*]</code></dd>\n",
       "              <dt>AppName</dt>\n",
       "                <dd><code>Agg</code></dd>\n",
       "            </dl>\n",
       "        </div>\n",
       "        \n",
       "            </div>\n",
       "        "
      ],
      "text/plain": [
       "<pyspark.sql.session.SparkSession at 0x16053c6e250>"
      ]
     },
     "execution_count": 3,
     "metadata": {},
     "output_type": "execute_result"
    }
   ],
   "source": [
    "spark"
   ]
  },
  {
   "cell_type": "code",
   "execution_count": 4,
   "id": "b3adb8e7-d8be-4870-aecb-504c0dcec1be",
   "metadata": {},
   "outputs": [],
   "source": [
    "df_pyspark = spark.read.csv('Test5.csv', header=True, inferSchema=True)"
   ]
  },
  {
   "cell_type": "code",
   "execution_count": 5,
   "id": "bd7053bf-5026-45c0-80a4-0aae21475625",
   "metadata": {},
   "outputs": [
    {
     "name": "stdout",
     "output_type": "stream",
     "text": [
      "+---------------+-----------+------+\n",
      "|           Name|Departments|Salary|\n",
      "+---------------+-----------+------+\n",
      "|       John Doe|      Sales| 50000|\n",
      "|       John Doe|         HR| 60000|\n",
      "|      John Doen|         IT| 70000|\n",
      "|    Emily Davis|    Finance| 55000|\n",
      "|    Emily Davis|  Marketing| 58000|\n",
      "| Jessica Wilson|         IT| 65000|\n",
      "|Daniel Martinez|    Finance| 62000|\n",
      "|   Sarah Taylor|      Sales| 51000|\n",
      "|   Sarah Taylor|         HR| 59000|\n",
      "|   Sarah Taylor|         IT| 68000|\n",
      "|   Sarah Taylor|  Marketing| 57000|\n",
      "+---------------+-----------+------+\n",
      "\n"
     ]
    }
   ],
   "source": [
    "df_pyspark.show()"
   ]
  },
  {
   "cell_type": "code",
   "execution_count": 6,
   "id": "38304090-aab2-4904-9607-901e27f39e17",
   "metadata": {},
   "outputs": [
    {
     "name": "stdout",
     "output_type": "stream",
     "text": [
      "root\n",
      " |-- Name: string (nullable = true)\n",
      " |-- Departments: string (nullable = true)\n",
      " |-- Salary: integer (nullable = true)\n",
      "\n"
     ]
    }
   ],
   "source": [
    "df_pyspark.printSchema()"
   ]
  },
  {
   "cell_type": "code",
   "execution_count": 7,
   "id": "40a10901-ef41-4756-bf5c-847cc85257e3",
   "metadata": {},
   "outputs": [
    {
     "name": "stdout",
     "output_type": "stream",
     "text": [
      "+---------------+-----------+\n",
      "|           Name|sum(Salary)|\n",
      "+---------------+-----------+\n",
      "|    Emily Davis|     113000|\n",
      "|Daniel Martinez|      62000|\n",
      "|       John Doe|     110000|\n",
      "| Jessica Wilson|      65000|\n",
      "|      John Doen|      70000|\n",
      "|   Sarah Taylor|     235000|\n",
      "+---------------+-----------+\n",
      "\n"
     ]
    }
   ],
   "source": [
    "### GroupBy operation\n",
    "## Group to find the maximun salary\n",
    "df_pyspark.groupBy('Name').sum().show()"
   ]
  },
  {
   "cell_type": "code",
   "execution_count": 8,
   "id": "dbaf61f7-9c0c-4cbb-afde-d51b441154eb",
   "metadata": {},
   "outputs": [
    {
     "name": "stdout",
     "output_type": "stream",
     "text": [
      "+-----------+-----------+\n",
      "|Departments|sum(Salary)|\n",
      "+-----------+-----------+\n",
      "|      Sales|     101000|\n",
      "|         HR|     119000|\n",
      "|    Finance|     117000|\n",
      "|  Marketing|     115000|\n",
      "|         IT|     203000|\n",
      "+-----------+-----------+\n",
      "\n"
     ]
    }
   ],
   "source": [
    "## Group departments which gives maximun salary\n",
    "df_pyspark.groupBy('Departments').sum().show()"
   ]
  },
  {
   "cell_type": "code",
   "execution_count": 9,
   "id": "ce2caedb-907f-46e5-9182-9e58f2e486f8",
   "metadata": {},
   "outputs": [
    {
     "name": "stdout",
     "output_type": "stream",
     "text": [
      "+-----------+-----------------+\n",
      "|Departments|      avg(Salary)|\n",
      "+-----------+-----------------+\n",
      "|      Sales|          50500.0|\n",
      "|         HR|          59500.0|\n",
      "|    Finance|          58500.0|\n",
      "|  Marketing|          57500.0|\n",
      "|         IT|67666.66666666667|\n",
      "+-----------+-----------------+\n",
      "\n"
     ]
    }
   ],
   "source": [
    "df_pyspark.groupBy('Departments').mean().show()"
   ]
  },
  {
   "cell_type": "code",
   "execution_count": 10,
   "id": "064976cd-7fab-4d00-bdbf-0424c7c3ea7c",
   "metadata": {},
   "outputs": [
    {
     "name": "stdout",
     "output_type": "stream",
     "text": [
      "+-----------+-----+\n",
      "|Departments|count|\n",
      "+-----------+-----+\n",
      "|      Sales|    2|\n",
      "|         HR|    2|\n",
      "|    Finance|    2|\n",
      "|  Marketing|    2|\n",
      "|         IT|    3|\n",
      "+-----------+-----+\n",
      "\n"
     ]
    }
   ],
   "source": [
    "df_pyspark.groupBy('Departments').count().show()"
   ]
  },
  {
   "cell_type": "code",
   "execution_count": 11,
   "id": "8df73b41-a6fe-46c0-aaf4-1b0fa7c55198",
   "metadata": {},
   "outputs": [
    {
     "name": "stdout",
     "output_type": "stream",
     "text": [
      "+-----------+\n",
      "|sum(Salary)|\n",
      "+-----------+\n",
      "|     655000|\n",
      "+-----------+\n",
      "\n"
     ]
    }
   ],
   "source": [
    "df_pyspark.agg({'Salary':'sum'}).show()"
   ]
  },
  {
   "cell_type": "code",
   "execution_count": 12,
   "id": "4d08b6dc-04fc-4296-b381-df05d8e3bb15",
   "metadata": {},
   "outputs": [
    {
     "name": "stdout",
     "output_type": "stream",
     "text": [
      "+---------------+-----------+\n",
      "|           Name|max(Salary)|\n",
      "+---------------+-----------+\n",
      "|    Emily Davis|      58000|\n",
      "|Daniel Martinez|      62000|\n",
      "|       John Doe|      60000|\n",
      "| Jessica Wilson|      65000|\n",
      "|      John Doen|      70000|\n",
      "|   Sarah Taylor|      68000|\n",
      "+---------------+-----------+\n",
      "\n"
     ]
    }
   ],
   "source": [
    "df_pyspark.groupBy('Name').max().show()"
   ]
  },
  {
   "cell_type": "code",
   "execution_count": 13,
   "id": "6834fa4c-6042-4f4e-93b7-efa85562605c",
   "metadata": {},
   "outputs": [
    {
     "name": "stdout",
     "output_type": "stream",
     "text": [
      "+---------------+-----------+\n",
      "|           Name|min(Salary)|\n",
      "+---------------+-----------+\n",
      "|    Emily Davis|      55000|\n",
      "|Daniel Martinez|      62000|\n",
      "|       John Doe|      50000|\n",
      "| Jessica Wilson|      65000|\n",
      "|      John Doen|      70000|\n",
      "|   Sarah Taylor|      51000|\n",
      "+---------------+-----------+\n",
      "\n"
     ]
    }
   ],
   "source": [
    "df_pyspark.groupBy('Name').min().show()"
   ]
  },
  {
   "cell_type": "code",
   "execution_count": 14,
   "id": "172d9024-7eaf-47c3-928a-eb806de217ef",
   "metadata": {},
   "outputs": [
    {
     "name": "stdout",
     "output_type": "stream",
     "text": [
      "+---------------+-----------+\n",
      "|           Name|avg(Salary)|\n",
      "+---------------+-----------+\n",
      "|    Emily Davis|    56500.0|\n",
      "|Daniel Martinez|    62000.0|\n",
      "|       John Doe|    55000.0|\n",
      "| Jessica Wilson|    65000.0|\n",
      "|      John Doen|    70000.0|\n",
      "|   Sarah Taylor|    58750.0|\n",
      "+---------------+-----------+\n",
      "\n"
     ]
    }
   ],
   "source": [
    "df_pyspark.groupBy('Name').avg().show()"
   ]
  }
 ],
 "metadata": {
  "kernelspec": {
   "display_name": "Python 3 (ipykernel)",
   "language": "python",
   "name": "python3"
  },
  "language_info": {
   "codemirror_mode": {
    "name": "ipython",
    "version": 3
   },
   "file_extension": ".py",
   "mimetype": "text/x-python",
   "name": "python",
   "nbconvert_exporter": "python",
   "pygments_lexer": "ipython3",
   "version": "3.11.7"
  }
 },
 "nbformat": 4,
 "nbformat_minor": 5
}
