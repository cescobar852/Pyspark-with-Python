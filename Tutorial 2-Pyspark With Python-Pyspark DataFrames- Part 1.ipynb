{
 "cells": [
  {
   "cell_type": "markdown",
   "id": "12f6fa12-0d8b-447a-815d-fd30559c1573",
   "metadata": {},
   "source": [
    "## Tutorial 2-Pyspark With Python-Pyspark DataFrames- Part 1\n",
    "\n",
    "- PySpark Dataframe\n",
    "- Reading the Dataframe\n",
    "- Checking in Datatypes of a Column(Schema)\n",
    "- Selecting Columns And Indexing\n",
    "- Check Describe option similar to Pandas\n",
    "- Adding Columns\n",
    "- Dropping Columns\n",
    "- Renaming columns"
   ]
  },
  {
   "cell_type": "code",
   "execution_count": 3,
   "id": "25a3e35b-7b0f-4510-94f5-cf71dae7c67e",
   "metadata": {},
   "outputs": [],
   "source": [
    "from pyspark.sql import SparkSession\n",
    "spark = SparkSession.builder.appName('Dataframe').getOrCreate()"
   ]
  },
  {
   "cell_type": "code",
   "execution_count": 5,
   "id": "23068238-55c7-48d2-a30c-3d8e36031915",
   "metadata": {},
   "outputs": [
    {
     "data": {
      "text/html": [
       "\n",
       "            <div>\n",
       "                <p><b>SparkSession - in-memory</b></p>\n",
       "                \n",
       "        <div>\n",
       "            <p><b>SparkContext</b></p>\n",
       "\n",
       "            <p><a href=\"http://DESKTOP-G3LBEF5:4041\">Spark UI</a></p>\n",
       "\n",
       "            <dl>\n",
       "              <dt>Version</dt>\n",
       "                <dd><code>v3.5.1</code></dd>\n",
       "              <dt>Master</dt>\n",
       "                <dd><code>local[*]</code></dd>\n",
       "              <dt>AppName</dt>\n",
       "                <dd><code>Dataframe</code></dd>\n",
       "            </dl>\n",
       "        </div>\n",
       "        \n",
       "            </div>\n",
       "        "
      ],
      "text/plain": [
       "<pyspark.sql.session.SparkSession at 0x1c9b8cabfd0>"
      ]
     },
     "execution_count": 5,
     "metadata": {},
     "output_type": "execute_result"
    }
   ],
   "source": [
    "spark"
   ]
  },
  {
   "cell_type": "markdown",
   "id": "ecccce31-7281-4be9-b411-e824f7cefbb8",
   "metadata": {},
   "source": [
    "## Read the Dataset"
   ]
  },
  {
   "cell_type": "code",
   "execution_count": 16,
   "id": "1a35ce5f-3fc9-44d1-91af-43470d652f76",
   "metadata": {},
   "outputs": [],
   "source": [
    "df_pyspark=spark.read.option('header','true').csv('test.csv',inferSchema=True)"
   ]
  },
  {
   "cell_type": "code",
   "execution_count": 10,
   "id": "c68f0529-5fa3-468f-a957-d474d6b78ec6",
   "metadata": {},
   "outputs": [
    {
     "name": "stdout",
     "output_type": "stream",
     "text": [
      "+-----+---+----------+\n",
      "| NAME|AGE|EXPERIENCE|\n",
      "+-----+---+----------+\n",
      "|Chris| 27|        10|\n",
      "|Aleja| 30|         8|\n",
      "|David| 18|         4|\n",
      "+-----+---+----------+\n",
      "\n"
     ]
    }
   ],
   "source": [
    "spark.read.option('header','true').csv('test.csv').show()"
   ]
  },
  {
   "cell_type": "code",
   "execution_count": 18,
   "id": "5e8f97c4-778e-4203-a01f-bdaf20f5d69d",
   "metadata": {},
   "outputs": [
    {
     "name": "stdout",
     "output_type": "stream",
     "text": [
      "root\n",
      " |-- NAME: string (nullable = true)\n",
      " |-- AGE: integer (nullable = true)\n",
      " |-- EXPERIENCE: integer (nullable = true)\n",
      "\n"
     ]
    }
   ],
   "source": [
    "## Check the Schema\n",
    "df_pyspark.printSchema()"
   ]
  },
  {
   "cell_type": "code",
   "execution_count": 20,
   "id": "4925adfe-5711-4b6b-b4f9-ee654c675aaf",
   "metadata": {},
   "outputs": [
    {
     "name": "stdout",
     "output_type": "stream",
     "text": [
      "+-----+---+----------+\n",
      "| NAME|AGE|EXPERIENCE|\n",
      "+-----+---+----------+\n",
      "|Chris| 27|        10|\n",
      "|Aleja| 30|         8|\n",
      "|David| 18|         4|\n",
      "+-----+---+----------+\n",
      "\n"
     ]
    }
   ],
   "source": [
    "df_pyspark=spark.read.csv('test.csv',header=True,inferSchema=True)\n",
    "df_pyspark.show()"
   ]
  },
  {
   "cell_type": "code",
   "execution_count": 22,
   "id": "30238e22-b03c-4faa-ae33-2214e3e784c8",
   "metadata": {},
   "outputs": [
    {
     "name": "stdout",
     "output_type": "stream",
     "text": [
      "root\n",
      " |-- NAME: string (nullable = true)\n",
      " |-- AGE: integer (nullable = true)\n",
      " |-- EXPERIENCE: integer (nullable = true)\n",
      "\n"
     ]
    }
   ],
   "source": [
    "df_pyspark.printSchema()"
   ]
  },
  {
   "cell_type": "code",
   "execution_count": 24,
   "id": "b0a91064-e1f3-4879-b728-f4e77324000e",
   "metadata": {},
   "outputs": [
    {
     "data": {
      "text/plain": [
       "pyspark.sql.dataframe.DataFrame"
      ]
     },
     "execution_count": 24,
     "metadata": {},
     "output_type": "execute_result"
    }
   ],
   "source": [
    "type(df_pyspark)"
   ]
  },
  {
   "cell_type": "markdown",
   "id": "7df5ccbe-ea37-4754-b76b-64d81261dd21",
   "metadata": {},
   "source": [
    "Q: What is a Dataframe?\n",
    "A: A dataframe es data structures."
   ]
  },
  {
   "cell_type": "code",
   "execution_count": 30,
   "id": "d1953d16-ab6f-4044-b7ad-945e760c9b90",
   "metadata": {},
   "outputs": [
    {
     "data": {
      "text/plain": [
       "[Row(NAME='Chris', AGE=27, EXPERIENCE=10),\n",
       " Row(NAME='Aleja', AGE=30, EXPERIENCE=8),\n",
       " Row(NAME='David', AGE=18, EXPERIENCE=4)]"
      ]
     },
     "execution_count": 30,
     "metadata": {},
     "output_type": "execute_result"
    }
   ],
   "source": [
    "df_pyspark.head(3)"
   ]
  },
  {
   "cell_type": "code",
   "execution_count": 32,
   "id": "43d84843-45ca-4cf1-be8f-90018e582880",
   "metadata": {},
   "outputs": [
    {
     "name": "stdout",
     "output_type": "stream",
     "text": [
      "+-----+---+----------+\n",
      "| NAME|AGE|EXPERIENCE|\n",
      "+-----+---+----------+\n",
      "|Chris| 27|        10|\n",
      "|Aleja| 30|         8|\n",
      "|David| 18|         4|\n",
      "+-----+---+----------+\n",
      "\n"
     ]
    }
   ],
   "source": [
    "df_pyspark.show()"
   ]
  },
  {
   "cell_type": "code",
   "execution_count": 42,
   "id": "46519147-2447-4cf1-b7ba-669d854f3a88",
   "metadata": {},
   "outputs": [
    {
     "name": "stdout",
     "output_type": "stream",
     "text": [
      "+-----+\n",
      "| NAME|\n",
      "+-----+\n",
      "|Chris|\n",
      "|Aleja|\n",
      "|David|\n",
      "+-----+\n",
      "\n"
     ]
    }
   ],
   "source": [
    "#How to pick a single column\n",
    "df_pyspark.select('NAME').show()"
   ]
  },
  {
   "cell_type": "code",
   "execution_count": 44,
   "id": "943bc05b-b30d-4a29-b21c-8232683529eb",
   "metadata": {},
   "outputs": [
    {
     "name": "stdout",
     "output_type": "stream",
     "text": [
      "+-----+---+\n",
      "| NAME|AGE|\n",
      "+-----+---+\n",
      "|Chris| 27|\n",
      "|Aleja| 30|\n",
      "|David| 18|\n",
      "+-----+---+\n",
      "\n"
     ]
    }
   ],
   "source": [
    "#How to pick multiple columns\n",
    "df_pyspark.select(['NAME','AGE']).show()"
   ]
  },
  {
   "cell_type": "code",
   "execution_count": 48,
   "id": "4672e5c3-7675-42ed-b70c-902b8105fa74",
   "metadata": {},
   "outputs": [
    {
     "data": {
      "text/plain": [
       "Column<'NAME'>"
      ]
     },
     "execution_count": 48,
     "metadata": {},
     "output_type": "execute_result"
    }
   ],
   "source": [
    "df_pyspark['NAME']"
   ]
  },
  {
   "cell_type": "code",
   "execution_count": 50,
   "id": "704eba8c-02e4-421e-9d08-7d3e3baa0466",
   "metadata": {},
   "outputs": [
    {
     "data": {
      "text/plain": [
       "[('NAME', 'string'), ('AGE', 'int'), ('EXPERIENCE', 'int')]"
      ]
     },
     "execution_count": 50,
     "metadata": {},
     "output_type": "execute_result"
    }
   ],
   "source": [
    "df_pyspark.dtypes"
   ]
  },
  {
   "cell_type": "code",
   "execution_count": 54,
   "id": "85e8f458-74b8-4069-8ccf-ff1e8dbe770c",
   "metadata": {},
   "outputs": [
    {
     "name": "stdout",
     "output_type": "stream",
     "text": [
      "+-------+-----+-----------------+-----------------+\n",
      "|summary| NAME|              AGE|       EXPERIENCE|\n",
      "+-------+-----+-----------------+-----------------+\n",
      "|  count|    3|                3|                3|\n",
      "|   mean| NULL|             25.0|7.333333333333333|\n",
      "| stddev| NULL|6.244997998398398|3.055050463303893|\n",
      "|    min|Aleja|               18|                4|\n",
      "|    max|David|               30|               10|\n",
      "+-------+-----+-----------------+-----------------+\n",
      "\n"
     ]
    }
   ],
   "source": [
    "df_pyspark.describe().show()"
   ]
  },
  {
   "cell_type": "code",
   "execution_count": 62,
   "id": "c95e2545-e676-470a-b9d8-7ed590e2cbc8",
   "metadata": {},
   "outputs": [],
   "source": [
    "### Adding Columns in data frame\n",
    "df_pyspark=df_pyspark.withColumn('EXPERIENCE AFTER 2 YEARS', df_pyspark['EXPERIENCE']+2)"
   ]
  },
  {
   "cell_type": "code",
   "execution_count": 64,
   "id": "4a8a4330-d4ca-4d94-b672-87e9a3a2f7d2",
   "metadata": {},
   "outputs": [
    {
     "name": "stdout",
     "output_type": "stream",
     "text": [
      "+-----+---+----------+------------------------+\n",
      "| NAME|AGE|EXPERIENCE|EXPERIENCE AFTER 2 YEARS|\n",
      "+-----+---+----------+------------------------+\n",
      "|Chris| 27|        10|                      12|\n",
      "|Aleja| 30|         8|                      10|\n",
      "|David| 18|         4|                       6|\n",
      "+-----+---+----------+------------------------+\n",
      "\n"
     ]
    }
   ],
   "source": [
    "df_pyspark.show()"
   ]
  },
  {
   "cell_type": "code",
   "execution_count": 70,
   "id": "77d160cf-fd14-4ee1-94b4-09465eea53ec",
   "metadata": {},
   "outputs": [],
   "source": [
    "### Drop the columns\n",
    "df_pyspark = df_pyspark.drop('EXPERIENCE AFTER 2 YEARS')"
   ]
  },
  {
   "cell_type": "code",
   "execution_count": 72,
   "id": "e972709d-bf79-4363-a4d6-ed8550acfc75",
   "metadata": {},
   "outputs": [
    {
     "name": "stdout",
     "output_type": "stream",
     "text": [
      "+-----+---+----------+\n",
      "| NAME|AGE|EXPERIENCE|\n",
      "+-----+---+----------+\n",
      "|Chris| 27|        10|\n",
      "|Aleja| 30|         8|\n",
      "|David| 18|         4|\n",
      "+-----+---+----------+\n",
      "\n"
     ]
    }
   ],
   "source": [
    "df_pyspark.show()"
   ]
  },
  {
   "cell_type": "code",
   "execution_count": 78,
   "id": "ef6e22b2-a792-45d8-a59d-52c3f3bd40b0",
   "metadata": {},
   "outputs": [
    {
     "name": "stdout",
     "output_type": "stream",
     "text": [
      "+--------+---+----------+\n",
      "|New Name|AGE|EXPERIENCE|\n",
      "+--------+---+----------+\n",
      "|   Chris| 27|        10|\n",
      "|   Aleja| 30|         8|\n",
      "|   David| 18|         4|\n",
      "+--------+---+----------+\n",
      "\n"
     ]
    }
   ],
   "source": [
    "### Rename a Column\n",
    "df_pyspark.withColumnRenamed('NAME', 'New Name').show()"
   ]
  },
  {
   "cell_type": "code",
   "execution_count": null,
   "id": "34311c51-7eb7-41ff-b5d8-d2f2e2ca3b8d",
   "metadata": {},
   "outputs": [],
   "source": []
  },
  {
   "cell_type": "code",
   "execution_count": null,
   "id": "3a2f6046-9cfd-465f-9aba-678c8f7f439a",
   "metadata": {},
   "outputs": [],
   "source": []
  }
 ],
 "metadata": {
  "kernelspec": {
   "display_name": "Python 3 (ipykernel)",
   "language": "python",
   "name": "python3"
  },
  "language_info": {
   "codemirror_mode": {
    "name": "ipython",
    "version": 3
   },
   "file_extension": ".py",
   "mimetype": "text/x-python",
   "name": "python",
   "nbconvert_exporter": "python",
   "pygments_lexer": "ipython3",
   "version": "3.11.7"
  }
 },
 "nbformat": 4,
 "nbformat_minor": 5
}
