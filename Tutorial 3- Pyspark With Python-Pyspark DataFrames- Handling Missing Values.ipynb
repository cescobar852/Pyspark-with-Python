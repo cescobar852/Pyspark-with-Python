{
 "cells": [
  {
   "cell_type": "markdown",
   "id": "82d1da5d-d743-45d5-a865-3a988b14173d",
   "metadata": {},
   "source": [
    "### Tutorial 3- Pyspark With Python-Pyspark DataFrames- Handling Missing Values\n",
    "\n",
    "- Dropping Columns\n",
    "- Dropping Rows\n",
    "- Various Parameter in Dropping functionalities\n",
    "- Handling Missing values by Mean, Median and More\n"
   ]
  },
  {
   "cell_type": "code",
   "execution_count": 3,
   "id": "f4e025b5-0312-4d21-aa60-9410bb9001f9",
   "metadata": {},
   "outputs": [],
   "source": [
    "from pyspark.sql import SparkSession\n",
    "spark = SparkSession.builder.appName('Practise').getOrCreate()"
   ]
  },
  {
   "cell_type": "code",
   "execution_count": 123,
   "id": "486a591f-0b54-4e2f-8f52-a604ccbeaf5c",
   "metadata": {},
   "outputs": [],
   "source": [
    "df_pyspar = spark.read.csv('test3.csv', header=True,inferSchema=True)"
   ]
  },
  {
   "cell_type": "code",
   "execution_count": 5,
   "id": "fd7fb424-c52f-40ca-90e3-29c8873de7ae",
   "metadata": {},
   "outputs": [
    {
     "name": "stdout",
     "output_type": "stream",
     "text": [
      "+-------+----+----------+------+\n",
      "|   Name| Age|Experience|Salary|\n",
      "+-------+----+----------+------+\n",
      "|   John|  35|        10| 60000|\n",
      "|  Emily|  28|         5| 45000|\n",
      "|Michael|  40|        15| 75000|\n",
      "|  Sarah|  33|         8| 52000|\n",
      "|  David|  45|        20| 85000|\n",
      "|   Emma|  30|         7| 48000|\n",
      "| Daniel|  38|        12| 68000|\n",
      "|Jessica|NULL|         9| 55000|\n",
      "|   Ryan|  29|          | 42000|\n",
      "|   NULL|NULL|      NULL|  NULL|\n",
      "+-------+----+----------+------+\n",
      "\n"
     ]
    }
   ],
   "source": [
    "df_pyspar.show()"
   ]
  },
  {
   "cell_type": "code",
   "execution_count": 6,
   "id": "e6be7e3c-4c39-49d0-83a3-6399ceccc894",
   "metadata": {},
   "outputs": [
    {
     "name": "stdout",
     "output_type": "stream",
     "text": [
      "+----+----------+------+\n",
      "| Age|Experience|Salary|\n",
      "+----+----------+------+\n",
      "|  35|        10| 60000|\n",
      "|  28|         5| 45000|\n",
      "|  40|        15| 75000|\n",
      "|  33|         8| 52000|\n",
      "|  45|        20| 85000|\n",
      "|  30|         7| 48000|\n",
      "|  38|        12| 68000|\n",
      "|NULL|         9| 55000|\n",
      "|  29|          | 42000|\n",
      "|NULL|      NULL|  NULL|\n",
      "+----+----------+------+\n",
      "\n"
     ]
    }
   ],
   "source": [
    "## Drop the columns\n",
    "df_pyspar.drop('Name').show()"
   ]
  },
  {
   "cell_type": "code",
   "execution_count": 7,
   "id": "d0218717-818d-44a2-8b9d-5f840adaea5f",
   "metadata": {},
   "outputs": [
    {
     "name": "stdout",
     "output_type": "stream",
     "text": [
      "+-------+----+----------+------+\n",
      "|   Name| Age|Experience|Salary|\n",
      "+-------+----+----------+------+\n",
      "|   John|  35|        10| 60000|\n",
      "|  Emily|  28|         5| 45000|\n",
      "|Michael|  40|        15| 75000|\n",
      "|  Sarah|  33|         8| 52000|\n",
      "|  David|  45|        20| 85000|\n",
      "|   Emma|  30|         7| 48000|\n",
      "| Daniel|  38|        12| 68000|\n",
      "|Jessica|NULL|         9| 55000|\n",
      "|   Ryan|  29|          | 42000|\n",
      "|   NULL|NULL|      NULL|  NULL|\n",
      "+-------+----+----------+------+\n",
      "\n"
     ]
    }
   ],
   "source": [
    "df_pyspar.show()"
   ]
  },
  {
   "cell_type": "code",
   "execution_count": 8,
   "id": "a0816431-4fb9-4651-94c3-999914bda77a",
   "metadata": {},
   "outputs": [
    {
     "name": "stdout",
     "output_type": "stream",
     "text": [
      "+-------+---+----------+------+\n",
      "|   Name|Age|Experience|Salary|\n",
      "+-------+---+----------+------+\n",
      "|   John| 35|        10| 60000|\n",
      "|  Emily| 28|         5| 45000|\n",
      "|Michael| 40|        15| 75000|\n",
      "|  Sarah| 33|         8| 52000|\n",
      "|  David| 45|        20| 85000|\n",
      "|   Emma| 30|         7| 48000|\n",
      "| Daniel| 38|        12| 68000|\n",
      "|   Ryan| 29|          | 42000|\n",
      "+-------+---+----------+------+\n",
      "\n"
     ]
    }
   ],
   "source": [
    "df_pyspar.na.drop().show()"
   ]
  },
  {
   "cell_type": "code",
   "execution_count": 9,
   "id": "ebdc7c72-b2a4-4d00-be46-4c7330347a65",
   "metadata": {},
   "outputs": [
    {
     "name": "stdout",
     "output_type": "stream",
     "text": [
      "+-------+---+----------+------+\n",
      "|   Name|Age|Experience|Salary|\n",
      "+-------+---+----------+------+\n",
      "|   John| 35|        10| 60000|\n",
      "|  Emily| 28|         5| 45000|\n",
      "|Michael| 40|        15| 75000|\n",
      "|  Sarah| 33|         8| 52000|\n",
      "|  David| 45|        20| 85000|\n",
      "|   Emma| 30|         7| 48000|\n",
      "| Daniel| 38|        12| 68000|\n",
      "|   Ryan| 29|          | 42000|\n",
      "+-------+---+----------+------+\n",
      "\n"
     ]
    }
   ],
   "source": [
    "### any==how\n",
    "\n",
    "df_pyspar.na.drop(how='any').show()"
   ]
  },
  {
   "cell_type": "code",
   "execution_count": 10,
   "id": "1cb29d8f-b5aa-464e-88e7-e5e1809d24ab",
   "metadata": {},
   "outputs": [
    {
     "name": "stdout",
     "output_type": "stream",
     "text": [
      "+-------+----+----------+------+\n",
      "|   Name| Age|Experience|Salary|\n",
      "+-------+----+----------+------+\n",
      "|   John|  35|        10| 60000|\n",
      "|  Emily|  28|         5| 45000|\n",
      "|Michael|  40|        15| 75000|\n",
      "|  Sarah|  33|         8| 52000|\n",
      "|  David|  45|        20| 85000|\n",
      "|   Emma|  30|         7| 48000|\n",
      "| Daniel|  38|        12| 68000|\n",
      "|Jessica|NULL|         9| 55000|\n",
      "|   Ryan|  29|          | 42000|\n",
      "|   NULL|NULL|      NULL|  NULL|\n",
      "+-------+----+----------+------+\n",
      "\n"
     ]
    }
   ],
   "source": [
    "spark.read.csv('test3.csv', header=True,inferSchema=True).show()"
   ]
  },
  {
   "cell_type": "code",
   "execution_count": 11,
   "id": "a11593a1-6512-46c4-b1c7-b91e05af78a7",
   "metadata": {},
   "outputs": [
    {
     "name": "stdout",
     "output_type": "stream",
     "text": [
      "+-------+----+----------+------+\n",
      "|   Name| Age|Experience|Salary|\n",
      "+-------+----+----------+------+\n",
      "|   John|  35|        10| 60000|\n",
      "|  Emily|  28|         5| 45000|\n",
      "|Michael|  40|        15| 75000|\n",
      "|  Sarah|  33|         8| 52000|\n",
      "|  David|  45|        20| 85000|\n",
      "|   Emma|  30|         7| 48000|\n",
      "| Daniel|  38|        12| 68000|\n",
      "|Jessica|NULL|         9| 55000|\n",
      "|   Ryan|  29|          | 42000|\n",
      "+-------+----+----------+------+\n",
      "\n"
     ]
    }
   ],
   "source": [
    "### threshold\n",
    "\n",
    "df_pyspar.na.drop(how='any',thresh=2).show()"
   ]
  },
  {
   "cell_type": "code",
   "execution_count": 12,
   "id": "9a7314ac-1eaf-4ef0-8464-6dbf09006abf",
   "metadata": {},
   "outputs": [
    {
     "name": "stdout",
     "output_type": "stream",
     "text": [
      "+-------+----+----------+------+\n",
      "|   Name| Age|Experience|Salary|\n",
      "+-------+----+----------+------+\n",
      "|   John|  35|        10| 60000|\n",
      "|  Emily|  28|         5| 45000|\n",
      "|Michael|  40|        15| 75000|\n",
      "|  Sarah|  33|         8| 52000|\n",
      "|  David|  45|        20| 85000|\n",
      "|   Emma|  30|         7| 48000|\n",
      "| Daniel|  38|        12| 68000|\n",
      "|Jessica|NULL|         9| 55000|\n",
      "|   Ryan|  29|          | 42000|\n",
      "+-------+----+----------+------+\n",
      "\n"
     ]
    }
   ],
   "source": [
    "### Subset\n",
    "\n",
    "df_pyspar.na.drop(how='any', subset=['Experience']).show()"
   ]
  },
  {
   "cell_type": "code",
   "execution_count": 129,
   "id": "e08fd528-509e-49be-97e4-5dd59b517639",
   "metadata": {},
   "outputs": [
    {
     "name": "stdout",
     "output_type": "stream",
     "text": [
      "+-------+----+----------+------+\n",
      "|   Name| Age|Experience|Salary|\n",
      "+-------+----+----------+------+\n",
      "|   John|  35|        10| 60000|\n",
      "|  Emily|  28|         5| 45000|\n",
      "|Michael|  40|        15| 75000|\n",
      "|  Sarah|  33|         8| 52000|\n",
      "|  David|  45|        20| 85000|\n",
      "|   Emma|  30|         7| 48000|\n",
      "| Daniel|  38|        12| 68000|\n",
      "|Jessica|NULL|         9| 55000|\n",
      "|   Ryan|  29|      NULL| 42000|\n",
      "|   NULL|NULL|      NULL|  NULL|\n",
      "+-------+----+----------+------+\n",
      "\n"
     ]
    }
   ],
   "source": [
    "### Filling the missing value\n",
    "\n",
    "df_pyspar.na.fill('Missing Value',['Experience', 'Age']).show()"
   ]
  },
  {
   "cell_type": "code",
   "execution_count": 108,
   "id": "af1ffd6f-6b00-451a-8fd7-cb09f7432a33",
   "metadata": {},
   "outputs": [
    {
     "name": "stdout",
     "output_type": "stream",
     "text": [
      "+-------+----+----------+------+\n",
      "|   Name| Age|Experience|Salary|\n",
      "+-------+----+----------+------+\n",
      "|   John|  35|        10| 60000|\n",
      "|  Emily|  28|         5| 45000|\n",
      "|Michael|  40|        15| 75000|\n",
      "|  Sarah|  33|         8| 52000|\n",
      "|  David|  45|        20| 85000|\n",
      "|   Emma|  30|         7| 48000|\n",
      "| Daniel|  38|        12| 68000|\n",
      "|Jessica|NULL|         9| 55000|\n",
      "|   Ryan|  29|      NULL| 42000|\n",
      "|   NULL|NULL|      NULL|  NULL|\n",
      "+-------+----+----------+------+\n",
      "\n"
     ]
    }
   ],
   "source": [
    "df_pyspar.show()"
   ]
  },
  {
   "cell_type": "code",
   "execution_count": 135,
   "id": "6ea1d503-0616-49b5-8ba8-352d2218226d",
   "metadata": {},
   "outputs": [],
   "source": [
    "from pyspark.ml.feature import Imputer\n",
    "\n",
    "Imputer = Imputer (\n",
    "    inputCols=['Age','Experience', 'Salary'],\n",
    "    outputCols=[\"{}_imputed\".format(c) for c in ['Age','Experience', 'Salary']]\n",
    ").setStrategy(\"mean\")"
   ]
  },
  {
   "cell_type": "code",
   "execution_count": 139,
   "id": "cddd209c-8218-479b-a367-6d486b8d23c9",
   "metadata": {},
   "outputs": [
    {
     "name": "stdout",
     "output_type": "stream",
     "text": [
      "+-------+----+----------+------+-----------+------------------+--------------+\n",
      "|   Name| Age|Experience|Salary|Age_imputed|Experience_imputed|Salary_imputed|\n",
      "+-------+----+----------+------+-----------+------------------+--------------+\n",
      "|   John|  35|        10| 60000|         35|                10|         60000|\n",
      "|  Emily|  28|         5| 45000|         28|                 5|         45000|\n",
      "|Michael|  40|        15| 75000|         40|                15|         75000|\n",
      "|  Sarah|  33|         8| 52000|         33|                 8|         52000|\n",
      "|  David|  45|        20| 85000|         45|                20|         85000|\n",
      "|   Emma|  30|         7| 48000|         30|                 7|         48000|\n",
      "| Daniel|  38|        12| 68000|         38|                12|         68000|\n",
      "|Jessica|NULL|         9| 55000|         34|                 9|         55000|\n",
      "|   Ryan|  29|      NULL| 42000|         29|                10|         42000|\n",
      "|   NULL|NULL|      NULL|  NULL|         34|                10|         58888|\n",
      "+-------+----+----------+------+-----------+------------------+--------------+\n",
      "\n"
     ]
    }
   ],
   "source": [
    "# Add imputation cols to df\n",
    "\n",
    "Imputer.fit(df_pyspar).transform(df_pyspar).show()"
   ]
  }
 ],
 "metadata": {
  "kernelspec": {
   "display_name": "Python 3 (ipykernel)",
   "language": "python",
   "name": "python3"
  },
  "language_info": {
   "codemirror_mode": {
    "name": "ipython",
    "version": 3
   },
   "file_extension": ".py",
   "mimetype": "text/x-python",
   "name": "python",
   "nbconvert_exporter": "python",
   "pygments_lexer": "ipython3",
   "version": "3.11.7"
  }
 },
 "nbformat": 4,
 "nbformat_minor": 5
}
